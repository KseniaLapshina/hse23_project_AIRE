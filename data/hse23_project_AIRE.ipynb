{
  "nbformat": 4,
  "nbformat_minor": 0,
  "metadata": {
    "colab": {
      "provenance": []
    },
    "kernelspec": {
      "name": "python3",
      "display_name": "Python 3"
    },
    "language_info": {
      "name": "python"
    }
  },
  "cells": [
    {
      "cell_type": "code",
      "source": [
        "import pandas as pd"
      ],
      "metadata": {
        "id": "-eC1eu_sVDCy"
      },
      "execution_count": 1,
      "outputs": []
    },
    {
      "cell_type": "code",
      "source": [
        "import numpy as np"
      ],
      "metadata": {
        "id": "T3-c8RIHXaH7"
      },
      "execution_count": 2,
      "outputs": []
    },
    {
      "cell_type": "code",
      "source": [
        "!pip install -U kaleido"
      ],
      "metadata": {
        "colab": {
          "base_uri": "https://localhost:8080/"
        },
        "id": "YITLmibieB_R",
        "outputId": "c226a555-46f7-41e6-f3a8-c2ba9c8348fa"
      },
      "execution_count": 3,
      "outputs": [
        {
          "output_type": "stream",
          "name": "stdout",
          "text": [
            "Looking in indexes: https://pypi.org/simple, https://us-python.pkg.dev/colab-wheels/public/simple/\n",
            "Collecting kaleido\n",
            "  Downloading kaleido-0.2.1-py2.py3-none-manylinux1_x86_64.whl (79.9 MB)\n",
            "\u001b[2K     \u001b[90m━━━━━━━━━━━━━━━━━━━━━━━━━━━━━━━━━━━━━━━━\u001b[0m \u001b[32m79.9/79.9 MB\u001b[0m \u001b[31m12.3 MB/s\u001b[0m eta \u001b[36m0:00:00\u001b[0m\n",
            "\u001b[?25hInstalling collected packages: kaleido\n",
            "Successfully installed kaleido-0.2.1\n"
          ]
        }
      ]
    },
    {
      "cell_type": "code",
      "source": [
        "import os\n",
        "\n",
        "if not os.path.exists(\"../img\"):\n",
        "  os.mkdir(\"../img\")"
      ],
      "metadata": {
        "id": "ZqcaTRg_8ob8"
      },
      "execution_count": 16,
      "outputs": []
    },
    {
      "cell_type": "code",
      "execution_count": 5,
      "metadata": {
        "id": "QsoBWZwqUwWW"
      },
      "outputs": [],
      "source": [
        "def plot_annotated_heatmap(df: pd.DataFrame, title: str='Title', annot=pd.DataFrame, colors=False,\n",
        "                           height: int=None, width: int=None, image_title: str='title'):\n",
        "  import plotly.figure_factory as ff\n",
        "\n",
        "  if not colors:\n",
        "    colors_kwargs = dict(\n",
        "        # colorscale='magma',\n",
        "        # reversescale=True,\n",
        "        colorscale = [\n",
        "                    [0, 'rgb(255, 255, 255)'],\n",
        "                    [.45, 'rgb(182, 0, 207)'],\n",
        "                    [1, 'rgb(0, 0, 0)'],\n",
        "        ],\n",
        "        font_colors=['black', 'white'],\n",
        "        zmin=0, zmax=100,)\n",
        "  else:\n",
        "    colors_kwargs = dict(\n",
        "      colorscale = [\n",
        "                    [0, 'rgb(0, 0, 0)'],\n",
        "                    [1e-75, 'rgb(28, 0, 26)'],\n",
        "                    [1e-50, 'rgb(41, 0, 38)'],\n",
        "                    [1e-25, 'rgb(64, 0, 59)'],\n",
        "                    [1e-10, 'rgb(82, 2, 75)'],\n",
        "                    [0.05, 'rgb(182, 0, 207)'],\n",
        "                    [1, 'rgb(255, 255, 255)'],\n",
        "      ],\n",
        "      font_colors=['white', 'black'], zmin=0, zmax=1,\n",
        "    )\n",
        "\n",
        "  # tickvals = [0, 0.5, 1]\n",
        "  fig = ff.create_annotated_heatmap(np.flipud(df.values), x=list(df.columns), y=list(df.index)[::-1],\n",
        "                                    annotation_text=np.flipud(annot),\n",
        "                                    **colors_kwargs\n",
        "                                    )\n",
        "\n",
        "  fig['data'][0]['showscale'] = True\n",
        "\n",
        "  fig['layout']['xaxis'].update(side='top')\n",
        "  fig.update_xaxes(\n",
        "      tickangle=-15,\n",
        "  )\n",
        "  fig.update_layout( \n",
        "      title=title,\n",
        "      height=height,\n",
        "      width=width\n",
        "  )\n",
        "    \n",
        "  fig.write_image(f'../img/{image_title}.png')\n",
        "    \n",
        "  return fig.show()"
      ]
    },
    {
      "cell_type": "code",
      "source": [
        "blastp_df = pd.read_csv('/content/Heatmap.csv', header=0, index_col=0)"
      ],
      "metadata": {
        "id": "pLeThBReWOw8"
      },
      "execution_count": 6,
      "outputs": []
    },
    {
      "cell_type": "code",
      "source": [
        "for name in blastp_df.columns:\n",
        "  blastp_df[name] = blastp_df[name].astype(float)"
      ],
      "metadata": {
        "id": "soTiI7u0cjTN"
      },
      "execution_count": 7,
      "outputs": []
    },
    {
      "cell_type": "code",
      "source": [
        "blastp_df"
      ],
      "metadata": {
        "colab": {
          "base_uri": "https://localhost:8080/",
          "height": 270
        },
        "id": "oSuXlYvKYM0L",
        "outputId": "685b23a5-b5e5-4a40-939a-fdc73949e1af"
      },
      "execution_count": 11,
      "outputs": [
        {
          "output_type": "execute_result",
          "data": {
            "text/plain": [
              "           human       mouse  zebrafish  drosophila  c.elegans    ciliate  \\\n",
              "H2A   300.000000  300.000000  300.00000    42.69897  44.522879  47.522879   \n",
              "H2B    87.221849   87.522879   82.69897    61.39794  65.154902  54.000000   \n",
              "H3     95.301030   95.698970   94.69897    95.00000  94.522879  80.301030   \n",
              "H4     67.000000   67.000000   67.30103    67.00000  67.154902  51.522879   \n",
              "AIRE  300.000000  300.000000   82.30103    12.69897   9.096910   0.000000   \n",
              "\n",
              "           yeast  methanocaldococcus  thermococcus     e.coli  tuberculosis  \n",
              "H2A   113.522879                 0.0           0.0  43.000000          15.0  \n",
              "H2B    81.698970                 0.0           0.0  85.698970           0.0  \n",
              "H3     84.522879                 0.0           0.0  92.154902           0.0  \n",
              "H4     50.698970                 0.0           0.0  58.221849           0.0  \n",
              "AIRE   11.096910                 0.0           0.0   0.000000           0.0  "
            ],
            "text/html": [
              "\n",
              "  <div id=\"df-7226b308-ce53-4124-8b7c-d1d8d640f136\">\n",
              "    <div class=\"colab-df-container\">\n",
              "      <div>\n",
              "<style scoped>\n",
              "    .dataframe tbody tr th:only-of-type {\n",
              "        vertical-align: middle;\n",
              "    }\n",
              "\n",
              "    .dataframe tbody tr th {\n",
              "        vertical-align: top;\n",
              "    }\n",
              "\n",
              "    .dataframe thead th {\n",
              "        text-align: right;\n",
              "    }\n",
              "</style>\n",
              "<table border=\"1\" class=\"dataframe\">\n",
              "  <thead>\n",
              "    <tr style=\"text-align: right;\">\n",
              "      <th></th>\n",
              "      <th>human</th>\n",
              "      <th>mouse</th>\n",
              "      <th>zebrafish</th>\n",
              "      <th>drosophila</th>\n",
              "      <th>c.elegans</th>\n",
              "      <th>ciliate</th>\n",
              "      <th>yeast</th>\n",
              "      <th>methanocaldococcus</th>\n",
              "      <th>thermococcus</th>\n",
              "      <th>e.coli</th>\n",
              "      <th>tuberculosis</th>\n",
              "    </tr>\n",
              "  </thead>\n",
              "  <tbody>\n",
              "    <tr>\n",
              "      <th>H2A</th>\n",
              "      <td>300.000000</td>\n",
              "      <td>300.000000</td>\n",
              "      <td>300.00000</td>\n",
              "      <td>42.69897</td>\n",
              "      <td>44.522879</td>\n",
              "      <td>47.522879</td>\n",
              "      <td>113.522879</td>\n",
              "      <td>0.0</td>\n",
              "      <td>0.0</td>\n",
              "      <td>43.000000</td>\n",
              "      <td>15.0</td>\n",
              "    </tr>\n",
              "    <tr>\n",
              "      <th>H2B</th>\n",
              "      <td>87.221849</td>\n",
              "      <td>87.522879</td>\n",
              "      <td>82.69897</td>\n",
              "      <td>61.39794</td>\n",
              "      <td>65.154902</td>\n",
              "      <td>54.000000</td>\n",
              "      <td>81.698970</td>\n",
              "      <td>0.0</td>\n",
              "      <td>0.0</td>\n",
              "      <td>85.698970</td>\n",
              "      <td>0.0</td>\n",
              "    </tr>\n",
              "    <tr>\n",
              "      <th>H3</th>\n",
              "      <td>95.301030</td>\n",
              "      <td>95.698970</td>\n",
              "      <td>94.69897</td>\n",
              "      <td>95.00000</td>\n",
              "      <td>94.522879</td>\n",
              "      <td>80.301030</td>\n",
              "      <td>84.522879</td>\n",
              "      <td>0.0</td>\n",
              "      <td>0.0</td>\n",
              "      <td>92.154902</td>\n",
              "      <td>0.0</td>\n",
              "    </tr>\n",
              "    <tr>\n",
              "      <th>H4</th>\n",
              "      <td>67.000000</td>\n",
              "      <td>67.000000</td>\n",
              "      <td>67.30103</td>\n",
              "      <td>67.00000</td>\n",
              "      <td>67.154902</td>\n",
              "      <td>51.522879</td>\n",
              "      <td>50.698970</td>\n",
              "      <td>0.0</td>\n",
              "      <td>0.0</td>\n",
              "      <td>58.221849</td>\n",
              "      <td>0.0</td>\n",
              "    </tr>\n",
              "    <tr>\n",
              "      <th>AIRE</th>\n",
              "      <td>300.000000</td>\n",
              "      <td>300.000000</td>\n",
              "      <td>82.30103</td>\n",
              "      <td>12.69897</td>\n",
              "      <td>9.096910</td>\n",
              "      <td>0.000000</td>\n",
              "      <td>11.096910</td>\n",
              "      <td>0.0</td>\n",
              "      <td>0.0</td>\n",
              "      <td>0.000000</td>\n",
              "      <td>0.0</td>\n",
              "    </tr>\n",
              "  </tbody>\n",
              "</table>\n",
              "</div>\n",
              "      <button class=\"colab-df-convert\" onclick=\"convertToInteractive('df-7226b308-ce53-4124-8b7c-d1d8d640f136')\"\n",
              "              title=\"Convert this dataframe to an interactive table.\"\n",
              "              style=\"display:none;\">\n",
              "        \n",
              "  <svg xmlns=\"http://www.w3.org/2000/svg\" height=\"24px\"viewBox=\"0 0 24 24\"\n",
              "       width=\"24px\">\n",
              "    <path d=\"M0 0h24v24H0V0z\" fill=\"none\"/>\n",
              "    <path d=\"M18.56 5.44l.94 2.06.94-2.06 2.06-.94-2.06-.94-.94-2.06-.94 2.06-2.06.94zm-11 1L8.5 8.5l.94-2.06 2.06-.94-2.06-.94L8.5 2.5l-.94 2.06-2.06.94zm10 10l.94 2.06.94-2.06 2.06-.94-2.06-.94-.94-2.06-.94 2.06-2.06.94z\"/><path d=\"M17.41 7.96l-1.37-1.37c-.4-.4-.92-.59-1.43-.59-.52 0-1.04.2-1.43.59L10.3 9.45l-7.72 7.72c-.78.78-.78 2.05 0 2.83L4 21.41c.39.39.9.59 1.41.59.51 0 1.02-.2 1.41-.59l7.78-7.78 2.81-2.81c.8-.78.8-2.07 0-2.86zM5.41 20L4 18.59l7.72-7.72 1.47 1.35L5.41 20z\"/>\n",
              "  </svg>\n",
              "      </button>\n",
              "      \n",
              "  <style>\n",
              "    .colab-df-container {\n",
              "      display:flex;\n",
              "      flex-wrap:wrap;\n",
              "      gap: 12px;\n",
              "    }\n",
              "\n",
              "    .colab-df-convert {\n",
              "      background-color: #E8F0FE;\n",
              "      border: none;\n",
              "      border-radius: 50%;\n",
              "      cursor: pointer;\n",
              "      display: none;\n",
              "      fill: #1967D2;\n",
              "      height: 32px;\n",
              "      padding: 0 0 0 0;\n",
              "      width: 32px;\n",
              "    }\n",
              "\n",
              "    .colab-df-convert:hover {\n",
              "      background-color: #E2EBFA;\n",
              "      box-shadow: 0px 1px 2px rgba(60, 64, 67, 0.3), 0px 1px 3px 1px rgba(60, 64, 67, 0.15);\n",
              "      fill: #174EA6;\n",
              "    }\n",
              "\n",
              "    [theme=dark] .colab-df-convert {\n",
              "      background-color: #3B4455;\n",
              "      fill: #D2E3FC;\n",
              "    }\n",
              "\n",
              "    [theme=dark] .colab-df-convert:hover {\n",
              "      background-color: #434B5C;\n",
              "      box-shadow: 0px 1px 3px 1px rgba(0, 0, 0, 0.15);\n",
              "      filter: drop-shadow(0px 1px 2px rgba(0, 0, 0, 0.3));\n",
              "      fill: #FFFFFF;\n",
              "    }\n",
              "  </style>\n",
              "\n",
              "      <script>\n",
              "        const buttonEl =\n",
              "          document.querySelector('#df-7226b308-ce53-4124-8b7c-d1d8d640f136 button.colab-df-convert');\n",
              "        buttonEl.style.display =\n",
              "          google.colab.kernel.accessAllowed ? 'block' : 'none';\n",
              "\n",
              "        async function convertToInteractive(key) {\n",
              "          const element = document.querySelector('#df-7226b308-ce53-4124-8b7c-d1d8d640f136');\n",
              "          const dataTable =\n",
              "            await google.colab.kernel.invokeFunction('convertToInteractive',\n",
              "                                                     [key], {});\n",
              "          if (!dataTable) return;\n",
              "\n",
              "          const docLinkHtml = 'Like what you see? Visit the ' +\n",
              "            '<a target=\"_blank\" href=https://colab.research.google.com/notebooks/data_table.ipynb>data table notebook</a>'\n",
              "            + ' to learn more about interactive tables.';\n",
              "          element.innerHTML = '';\n",
              "          dataTable['output_type'] = 'display_data';\n",
              "          await google.colab.output.renderOutput(dataTable, element);\n",
              "          const docLink = document.createElement('div');\n",
              "          docLink.innerHTML = docLinkHtml;\n",
              "          element.appendChild(docLink);\n",
              "        }\n",
              "      </script>\n",
              "    </div>\n",
              "  </div>\n",
              "  "
            ]
          },
          "metadata": {},
          "execution_count": 11
        }
      ]
    },
    {
      "cell_type": "code",
      "source": [
        "plot_annotated_heatmap(blastp_df, annot=blastp_df.values,\n",
        "                       title='-log(BLASTp E value) matrix (colorscale=similarity)', height=1040, width=1500, image_title='-log(BLASTp E value)')"
      ],
      "metadata": {
        "colab": {
          "base_uri": "https://localhost:8080/",
          "height": 1000
        },
        "id": "AH8h2PlCVZtt",
        "outputId": "b20fbaa6-174d-49bc-a830-68cb0be5671c"
      },
      "execution_count": 17,
      "outputs": [
        {
          "output_type": "display_data",
          "data": {
            "text/html": [
              "<html>\n",
              "<head><meta charset=\"utf-8\" /></head>\n",
              "<body>\n",
              "    <div>            <script src=\"https://cdnjs.cloudflare.com/ajax/libs/mathjax/2.7.5/MathJax.js?config=TeX-AMS-MML_SVG\"></script><script type=\"text/javascript\">if (window.MathJax && window.MathJax.Hub && window.MathJax.Hub.Config) {window.MathJax.Hub.Config({SVG: {font: \"STIX-Web\"}});}</script>                <script type=\"text/javascript\">window.PlotlyConfig = {MathJaxConfig: 'local'};</script>\n",
              "        <script src=\"https://cdn.plot.ly/plotly-2.18.2.min.js\"></script>                <div id=\"6d58fd1c-5bc2-4e59-be0a-59fa6884c551\" class=\"plotly-graph-div\" style=\"height:1040px; width:1500px;\"></div>            <script type=\"text/javascript\">                                    window.PLOTLYENV=window.PLOTLYENV || {};                                    if (document.getElementById(\"6d58fd1c-5bc2-4e59-be0a-59fa6884c551\")) {                    Plotly.newPlot(                        \"6d58fd1c-5bc2-4e59-be0a-59fa6884c551\",                        [{\"colorscale\":[[0,\"rgb(255, 255, 255)\"],[0.45,\"rgb(182, 0, 207)\"],[1,\"rgb(0, 0, 0)\"]],\"reversescale\":false,\"showscale\":true,\"x\":[\"human\",\"mouse\",\"zebrafish\",\"drosophila\",\"c.elegans\",\"ciliate\",\"yeast\",\"methanocaldococcus\",\"thermococcus\",\"e.coli\",\"tuberculosis\"],\"y\":[\"AIRE\",\"H4\",\"H3\",\"H2B\",\"H2A\"],\"z\":[[300.0,300.0,82.30103,12.69897,9.096910013,0.0,11.09691001,0.0,0.0,0.0,0.0],[67.0,67.0,67.30103,67.0,67.15490196,51.52287875,50.69897,0.0,0.0,58.22184875,0.0],[95.30103,95.69897,94.69897,95.0,94.52287875,80.30103,84.52287875,0.0,0.0,92.15490196,0.0],[87.22184875,87.52287875,82.69897,61.39794001,65.15490196,54.0,81.69897,0.0,0.0,85.69897,0.0],[300.0,300.0,300.0,42.69897,44.52287875,47.52287875,113.5228787,0.0,0.0,43.0,15.0]],\"zmax\":100,\"zmin\":0,\"type\":\"heatmap\"}],                        {\"annotations\":[{\"font\":{\"color\":\"white\"},\"showarrow\":false,\"text\":\"300.0\",\"x\":\"human\",\"xref\":\"x\",\"y\":\"AIRE\",\"yref\":\"y\"},{\"font\":{\"color\":\"white\"},\"showarrow\":false,\"text\":\"300.0\",\"x\":\"mouse\",\"xref\":\"x\",\"y\":\"AIRE\",\"yref\":\"y\"},{\"font\":{\"color\":\"white\"},\"showarrow\":false,\"text\":\"82.30103\",\"x\":\"zebrafish\",\"xref\":\"x\",\"y\":\"AIRE\",\"yref\":\"y\"},{\"font\":{\"color\":\"black\"},\"showarrow\":false,\"text\":\"12.69897\",\"x\":\"drosophila\",\"xref\":\"x\",\"y\":\"AIRE\",\"yref\":\"y\"},{\"font\":{\"color\":\"black\"},\"showarrow\":false,\"text\":\"9.096910013\",\"x\":\"c.elegans\",\"xref\":\"x\",\"y\":\"AIRE\",\"yref\":\"y\"},{\"font\":{\"color\":\"black\"},\"showarrow\":false,\"text\":\"0.0\",\"x\":\"ciliate\",\"xref\":\"x\",\"y\":\"AIRE\",\"yref\":\"y\"},{\"font\":{\"color\":\"black\"},\"showarrow\":false,\"text\":\"11.09691001\",\"x\":\"yeast\",\"xref\":\"x\",\"y\":\"AIRE\",\"yref\":\"y\"},{\"font\":{\"color\":\"black\"},\"showarrow\":false,\"text\":\"0.0\",\"x\":\"methanocaldococcus\",\"xref\":\"x\",\"y\":\"AIRE\",\"yref\":\"y\"},{\"font\":{\"color\":\"black\"},\"showarrow\":false,\"text\":\"0.0\",\"x\":\"thermococcus\",\"xref\":\"x\",\"y\":\"AIRE\",\"yref\":\"y\"},{\"font\":{\"color\":\"black\"},\"showarrow\":false,\"text\":\"0.0\",\"x\":\"e.coli\",\"xref\":\"x\",\"y\":\"AIRE\",\"yref\":\"y\"},{\"font\":{\"color\":\"black\"},\"showarrow\":false,\"text\":\"0.0\",\"x\":\"tuberculosis\",\"xref\":\"x\",\"y\":\"AIRE\",\"yref\":\"y\"},{\"font\":{\"color\":\"white\"},\"showarrow\":false,\"text\":\"67.0\",\"x\":\"human\",\"xref\":\"x\",\"y\":\"H4\",\"yref\":\"y\"},{\"font\":{\"color\":\"white\"},\"showarrow\":false,\"text\":\"67.0\",\"x\":\"mouse\",\"xref\":\"x\",\"y\":\"H4\",\"yref\":\"y\"},{\"font\":{\"color\":\"white\"},\"showarrow\":false,\"text\":\"67.30103\",\"x\":\"zebrafish\",\"xref\":\"x\",\"y\":\"H4\",\"yref\":\"y\"},{\"font\":{\"color\":\"white\"},\"showarrow\":false,\"text\":\"67.0\",\"x\":\"drosophila\",\"xref\":\"x\",\"y\":\"H4\",\"yref\":\"y\"},{\"font\":{\"color\":\"white\"},\"showarrow\":false,\"text\":\"67.15490196\",\"x\":\"c.elegans\",\"xref\":\"x\",\"y\":\"H4\",\"yref\":\"y\"},{\"font\":{\"color\":\"white\"},\"showarrow\":false,\"text\":\"51.52287875\",\"x\":\"ciliate\",\"xref\":\"x\",\"y\":\"H4\",\"yref\":\"y\"},{\"font\":{\"color\":\"white\"},\"showarrow\":false,\"text\":\"50.69897\",\"x\":\"yeast\",\"xref\":\"x\",\"y\":\"H4\",\"yref\":\"y\"},{\"font\":{\"color\":\"black\"},\"showarrow\":false,\"text\":\"0.0\",\"x\":\"methanocaldococcus\",\"xref\":\"x\",\"y\":\"H4\",\"yref\":\"y\"},{\"font\":{\"color\":\"black\"},\"showarrow\":false,\"text\":\"0.0\",\"x\":\"thermococcus\",\"xref\":\"x\",\"y\":\"H4\",\"yref\":\"y\"},{\"font\":{\"color\":\"white\"},\"showarrow\":false,\"text\":\"58.22184875\",\"x\":\"e.coli\",\"xref\":\"x\",\"y\":\"H4\",\"yref\":\"y\"},{\"font\":{\"color\":\"black\"},\"showarrow\":false,\"text\":\"0.0\",\"x\":\"tuberculosis\",\"xref\":\"x\",\"y\":\"H4\",\"yref\":\"y\"},{\"font\":{\"color\":\"white\"},\"showarrow\":false,\"text\":\"95.30103\",\"x\":\"human\",\"xref\":\"x\",\"y\":\"H3\",\"yref\":\"y\"},{\"font\":{\"color\":\"white\"},\"showarrow\":false,\"text\":\"95.69897\",\"x\":\"mouse\",\"xref\":\"x\",\"y\":\"H3\",\"yref\":\"y\"},{\"font\":{\"color\":\"white\"},\"showarrow\":false,\"text\":\"94.69897\",\"x\":\"zebrafish\",\"xref\":\"x\",\"y\":\"H3\",\"yref\":\"y\"},{\"font\":{\"color\":\"white\"},\"showarrow\":false,\"text\":\"95.0\",\"x\":\"drosophila\",\"xref\":\"x\",\"y\":\"H3\",\"yref\":\"y\"},{\"font\":{\"color\":\"white\"},\"showarrow\":false,\"text\":\"94.52287875\",\"x\":\"c.elegans\",\"xref\":\"x\",\"y\":\"H3\",\"yref\":\"y\"},{\"font\":{\"color\":\"white\"},\"showarrow\":false,\"text\":\"80.30103\",\"x\":\"ciliate\",\"xref\":\"x\",\"y\":\"H3\",\"yref\":\"y\"},{\"font\":{\"color\":\"white\"},\"showarrow\":false,\"text\":\"84.52287875\",\"x\":\"yeast\",\"xref\":\"x\",\"y\":\"H3\",\"yref\":\"y\"},{\"font\":{\"color\":\"black\"},\"showarrow\":false,\"text\":\"0.0\",\"x\":\"methanocaldococcus\",\"xref\":\"x\",\"y\":\"H3\",\"yref\":\"y\"},{\"font\":{\"color\":\"black\"},\"showarrow\":false,\"text\":\"0.0\",\"x\":\"thermococcus\",\"xref\":\"x\",\"y\":\"H3\",\"yref\":\"y\"},{\"font\":{\"color\":\"white\"},\"showarrow\":false,\"text\":\"92.15490196\",\"x\":\"e.coli\",\"xref\":\"x\",\"y\":\"H3\",\"yref\":\"y\"},{\"font\":{\"color\":\"black\"},\"showarrow\":false,\"text\":\"0.0\",\"x\":\"tuberculosis\",\"xref\":\"x\",\"y\":\"H3\",\"yref\":\"y\"},{\"font\":{\"color\":\"white\"},\"showarrow\":false,\"text\":\"87.22184875\",\"x\":\"human\",\"xref\":\"x\",\"y\":\"H2B\",\"yref\":\"y\"},{\"font\":{\"color\":\"white\"},\"showarrow\":false,\"text\":\"87.52287875\",\"x\":\"mouse\",\"xref\":\"x\",\"y\":\"H2B\",\"yref\":\"y\"},{\"font\":{\"color\":\"white\"},\"showarrow\":false,\"text\":\"82.69897\",\"x\":\"zebrafish\",\"xref\":\"x\",\"y\":\"H2B\",\"yref\":\"y\"},{\"font\":{\"color\":\"white\"},\"showarrow\":false,\"text\":\"61.39794001\",\"x\":\"drosophila\",\"xref\":\"x\",\"y\":\"H2B\",\"yref\":\"y\"},{\"font\":{\"color\":\"white\"},\"showarrow\":false,\"text\":\"65.15490196\",\"x\":\"c.elegans\",\"xref\":\"x\",\"y\":\"H2B\",\"yref\":\"y\"},{\"font\":{\"color\":\"white\"},\"showarrow\":false,\"text\":\"54.0\",\"x\":\"ciliate\",\"xref\":\"x\",\"y\":\"H2B\",\"yref\":\"y\"},{\"font\":{\"color\":\"white\"},\"showarrow\":false,\"text\":\"81.69897\",\"x\":\"yeast\",\"xref\":\"x\",\"y\":\"H2B\",\"yref\":\"y\"},{\"font\":{\"color\":\"black\"},\"showarrow\":false,\"text\":\"0.0\",\"x\":\"methanocaldococcus\",\"xref\":\"x\",\"y\":\"H2B\",\"yref\":\"y\"},{\"font\":{\"color\":\"black\"},\"showarrow\":false,\"text\":\"0.0\",\"x\":\"thermococcus\",\"xref\":\"x\",\"y\":\"H2B\",\"yref\":\"y\"},{\"font\":{\"color\":\"white\"},\"showarrow\":false,\"text\":\"85.69897\",\"x\":\"e.coli\",\"xref\":\"x\",\"y\":\"H2B\",\"yref\":\"y\"},{\"font\":{\"color\":\"black\"},\"showarrow\":false,\"text\":\"0.0\",\"x\":\"tuberculosis\",\"xref\":\"x\",\"y\":\"H2B\",\"yref\":\"y\"},{\"font\":{\"color\":\"white\"},\"showarrow\":false,\"text\":\"300.0\",\"x\":\"human\",\"xref\":\"x\",\"y\":\"H2A\",\"yref\":\"y\"},{\"font\":{\"color\":\"white\"},\"showarrow\":false,\"text\":\"300.0\",\"x\":\"mouse\",\"xref\":\"x\",\"y\":\"H2A\",\"yref\":\"y\"},{\"font\":{\"color\":\"white\"},\"showarrow\":false,\"text\":\"300.0\",\"x\":\"zebrafish\",\"xref\":\"x\",\"y\":\"H2A\",\"yref\":\"y\"},{\"font\":{\"color\":\"black\"},\"showarrow\":false,\"text\":\"42.69897\",\"x\":\"drosophila\",\"xref\":\"x\",\"y\":\"H2A\",\"yref\":\"y\"},{\"font\":{\"color\":\"black\"},\"showarrow\":false,\"text\":\"44.52287875\",\"x\":\"c.elegans\",\"xref\":\"x\",\"y\":\"H2A\",\"yref\":\"y\"},{\"font\":{\"color\":\"black\"},\"showarrow\":false,\"text\":\"47.52287875\",\"x\":\"ciliate\",\"xref\":\"x\",\"y\":\"H2A\",\"yref\":\"y\"},{\"font\":{\"color\":\"white\"},\"showarrow\":false,\"text\":\"113.5228787\",\"x\":\"yeast\",\"xref\":\"x\",\"y\":\"H2A\",\"yref\":\"y\"},{\"font\":{\"color\":\"black\"},\"showarrow\":false,\"text\":\"0.0\",\"x\":\"methanocaldococcus\",\"xref\":\"x\",\"y\":\"H2A\",\"yref\":\"y\"},{\"font\":{\"color\":\"black\"},\"showarrow\":false,\"text\":\"0.0\",\"x\":\"thermococcus\",\"xref\":\"x\",\"y\":\"H2A\",\"yref\":\"y\"},{\"font\":{\"color\":\"black\"},\"showarrow\":false,\"text\":\"43.0\",\"x\":\"e.coli\",\"xref\":\"x\",\"y\":\"H2A\",\"yref\":\"y\"},{\"font\":{\"color\":\"black\"},\"showarrow\":false,\"text\":\"15.0\",\"x\":\"tuberculosis\",\"xref\":\"x\",\"y\":\"H2A\",\"yref\":\"y\"}],\"xaxis\":{\"dtick\":1,\"gridcolor\":\"rgb(0, 0, 0)\",\"side\":\"top\",\"ticks\":\"\",\"tickangle\":-15},\"yaxis\":{\"dtick\":1,\"ticks\":\"\",\"ticksuffix\":\"  \"},\"template\":{\"data\":{\"histogram2dcontour\":[{\"type\":\"histogram2dcontour\",\"colorbar\":{\"outlinewidth\":0,\"ticks\":\"\"},\"colorscale\":[[0.0,\"#0d0887\"],[0.1111111111111111,\"#46039f\"],[0.2222222222222222,\"#7201a8\"],[0.3333333333333333,\"#9c179e\"],[0.4444444444444444,\"#bd3786\"],[0.5555555555555556,\"#d8576b\"],[0.6666666666666666,\"#ed7953\"],[0.7777777777777778,\"#fb9f3a\"],[0.8888888888888888,\"#fdca26\"],[1.0,\"#f0f921\"]]}],\"choropleth\":[{\"type\":\"choropleth\",\"colorbar\":{\"outlinewidth\":0,\"ticks\":\"\"}}],\"histogram2d\":[{\"type\":\"histogram2d\",\"colorbar\":{\"outlinewidth\":0,\"ticks\":\"\"},\"colorscale\":[[0.0,\"#0d0887\"],[0.1111111111111111,\"#46039f\"],[0.2222222222222222,\"#7201a8\"],[0.3333333333333333,\"#9c179e\"],[0.4444444444444444,\"#bd3786\"],[0.5555555555555556,\"#d8576b\"],[0.6666666666666666,\"#ed7953\"],[0.7777777777777778,\"#fb9f3a\"],[0.8888888888888888,\"#fdca26\"],[1.0,\"#f0f921\"]]}],\"heatmap\":[{\"type\":\"heatmap\",\"colorbar\":{\"outlinewidth\":0,\"ticks\":\"\"},\"colorscale\":[[0.0,\"#0d0887\"],[0.1111111111111111,\"#46039f\"],[0.2222222222222222,\"#7201a8\"],[0.3333333333333333,\"#9c179e\"],[0.4444444444444444,\"#bd3786\"],[0.5555555555555556,\"#d8576b\"],[0.6666666666666666,\"#ed7953\"],[0.7777777777777778,\"#fb9f3a\"],[0.8888888888888888,\"#fdca26\"],[1.0,\"#f0f921\"]]}],\"heatmapgl\":[{\"type\":\"heatmapgl\",\"colorbar\":{\"outlinewidth\":0,\"ticks\":\"\"},\"colorscale\":[[0.0,\"#0d0887\"],[0.1111111111111111,\"#46039f\"],[0.2222222222222222,\"#7201a8\"],[0.3333333333333333,\"#9c179e\"],[0.4444444444444444,\"#bd3786\"],[0.5555555555555556,\"#d8576b\"],[0.6666666666666666,\"#ed7953\"],[0.7777777777777778,\"#fb9f3a\"],[0.8888888888888888,\"#fdca26\"],[1.0,\"#f0f921\"]]}],\"contourcarpet\":[{\"type\":\"contourcarpet\",\"colorbar\":{\"outlinewidth\":0,\"ticks\":\"\"}}],\"contour\":[{\"type\":\"contour\",\"colorbar\":{\"outlinewidth\":0,\"ticks\":\"\"},\"colorscale\":[[0.0,\"#0d0887\"],[0.1111111111111111,\"#46039f\"],[0.2222222222222222,\"#7201a8\"],[0.3333333333333333,\"#9c179e\"],[0.4444444444444444,\"#bd3786\"],[0.5555555555555556,\"#d8576b\"],[0.6666666666666666,\"#ed7953\"],[0.7777777777777778,\"#fb9f3a\"],[0.8888888888888888,\"#fdca26\"],[1.0,\"#f0f921\"]]}],\"surface\":[{\"type\":\"surface\",\"colorbar\":{\"outlinewidth\":0,\"ticks\":\"\"},\"colorscale\":[[0.0,\"#0d0887\"],[0.1111111111111111,\"#46039f\"],[0.2222222222222222,\"#7201a8\"],[0.3333333333333333,\"#9c179e\"],[0.4444444444444444,\"#bd3786\"],[0.5555555555555556,\"#d8576b\"],[0.6666666666666666,\"#ed7953\"],[0.7777777777777778,\"#fb9f3a\"],[0.8888888888888888,\"#fdca26\"],[1.0,\"#f0f921\"]]}],\"mesh3d\":[{\"type\":\"mesh3d\",\"colorbar\":{\"outlinewidth\":0,\"ticks\":\"\"}}],\"scatter\":[{\"fillpattern\":{\"fillmode\":\"overlay\",\"size\":10,\"solidity\":0.2},\"type\":\"scatter\"}],\"parcoords\":[{\"type\":\"parcoords\",\"line\":{\"colorbar\":{\"outlinewidth\":0,\"ticks\":\"\"}}}],\"scatterpolargl\":[{\"type\":\"scatterpolargl\",\"marker\":{\"colorbar\":{\"outlinewidth\":0,\"ticks\":\"\"}}}],\"bar\":[{\"error_x\":{\"color\":\"#2a3f5f\"},\"error_y\":{\"color\":\"#2a3f5f\"},\"marker\":{\"line\":{\"color\":\"#E5ECF6\",\"width\":0.5},\"pattern\":{\"fillmode\":\"overlay\",\"size\":10,\"solidity\":0.2}},\"type\":\"bar\"}],\"scattergeo\":[{\"type\":\"scattergeo\",\"marker\":{\"colorbar\":{\"outlinewidth\":0,\"ticks\":\"\"}}}],\"scatterpolar\":[{\"type\":\"scatterpolar\",\"marker\":{\"colorbar\":{\"outlinewidth\":0,\"ticks\":\"\"}}}],\"histogram\":[{\"marker\":{\"pattern\":{\"fillmode\":\"overlay\",\"size\":10,\"solidity\":0.2}},\"type\":\"histogram\"}],\"scattergl\":[{\"type\":\"scattergl\",\"marker\":{\"colorbar\":{\"outlinewidth\":0,\"ticks\":\"\"}}}],\"scatter3d\":[{\"type\":\"scatter3d\",\"line\":{\"colorbar\":{\"outlinewidth\":0,\"ticks\":\"\"}},\"marker\":{\"colorbar\":{\"outlinewidth\":0,\"ticks\":\"\"}}}],\"scattermapbox\":[{\"type\":\"scattermapbox\",\"marker\":{\"colorbar\":{\"outlinewidth\":0,\"ticks\":\"\"}}}],\"scatterternary\":[{\"type\":\"scatterternary\",\"marker\":{\"colorbar\":{\"outlinewidth\":0,\"ticks\":\"\"}}}],\"scattercarpet\":[{\"type\":\"scattercarpet\",\"marker\":{\"colorbar\":{\"outlinewidth\":0,\"ticks\":\"\"}}}],\"carpet\":[{\"aaxis\":{\"endlinecolor\":\"#2a3f5f\",\"gridcolor\":\"white\",\"linecolor\":\"white\",\"minorgridcolor\":\"white\",\"startlinecolor\":\"#2a3f5f\"},\"baxis\":{\"endlinecolor\":\"#2a3f5f\",\"gridcolor\":\"white\",\"linecolor\":\"white\",\"minorgridcolor\":\"white\",\"startlinecolor\":\"#2a3f5f\"},\"type\":\"carpet\"}],\"table\":[{\"cells\":{\"fill\":{\"color\":\"#EBF0F8\"},\"line\":{\"color\":\"white\"}},\"header\":{\"fill\":{\"color\":\"#C8D4E3\"},\"line\":{\"color\":\"white\"}},\"type\":\"table\"}],\"barpolar\":[{\"marker\":{\"line\":{\"color\":\"#E5ECF6\",\"width\":0.5},\"pattern\":{\"fillmode\":\"overlay\",\"size\":10,\"solidity\":0.2}},\"type\":\"barpolar\"}],\"pie\":[{\"automargin\":true,\"type\":\"pie\"}]},\"layout\":{\"autotypenumbers\":\"strict\",\"colorway\":[\"#636efa\",\"#EF553B\",\"#00cc96\",\"#ab63fa\",\"#FFA15A\",\"#19d3f3\",\"#FF6692\",\"#B6E880\",\"#FF97FF\",\"#FECB52\"],\"font\":{\"color\":\"#2a3f5f\"},\"hovermode\":\"closest\",\"hoverlabel\":{\"align\":\"left\"},\"paper_bgcolor\":\"white\",\"plot_bgcolor\":\"#E5ECF6\",\"polar\":{\"bgcolor\":\"#E5ECF6\",\"angularaxis\":{\"gridcolor\":\"white\",\"linecolor\":\"white\",\"ticks\":\"\"},\"radialaxis\":{\"gridcolor\":\"white\",\"linecolor\":\"white\",\"ticks\":\"\"}},\"ternary\":{\"bgcolor\":\"#E5ECF6\",\"aaxis\":{\"gridcolor\":\"white\",\"linecolor\":\"white\",\"ticks\":\"\"},\"baxis\":{\"gridcolor\":\"white\",\"linecolor\":\"white\",\"ticks\":\"\"},\"caxis\":{\"gridcolor\":\"white\",\"linecolor\":\"white\",\"ticks\":\"\"}},\"coloraxis\":{\"colorbar\":{\"outlinewidth\":0,\"ticks\":\"\"}},\"colorscale\":{\"sequential\":[[0.0,\"#0d0887\"],[0.1111111111111111,\"#46039f\"],[0.2222222222222222,\"#7201a8\"],[0.3333333333333333,\"#9c179e\"],[0.4444444444444444,\"#bd3786\"],[0.5555555555555556,\"#d8576b\"],[0.6666666666666666,\"#ed7953\"],[0.7777777777777778,\"#fb9f3a\"],[0.8888888888888888,\"#fdca26\"],[1.0,\"#f0f921\"]],\"sequentialminus\":[[0.0,\"#0d0887\"],[0.1111111111111111,\"#46039f\"],[0.2222222222222222,\"#7201a8\"],[0.3333333333333333,\"#9c179e\"],[0.4444444444444444,\"#bd3786\"],[0.5555555555555556,\"#d8576b\"],[0.6666666666666666,\"#ed7953\"],[0.7777777777777778,\"#fb9f3a\"],[0.8888888888888888,\"#fdca26\"],[1.0,\"#f0f921\"]],\"diverging\":[[0,\"#8e0152\"],[0.1,\"#c51b7d\"],[0.2,\"#de77ae\"],[0.3,\"#f1b6da\"],[0.4,\"#fde0ef\"],[0.5,\"#f7f7f7\"],[0.6,\"#e6f5d0\"],[0.7,\"#b8e186\"],[0.8,\"#7fbc41\"],[0.9,\"#4d9221\"],[1,\"#276419\"]]},\"xaxis\":{\"gridcolor\":\"white\",\"linecolor\":\"white\",\"ticks\":\"\",\"title\":{\"standoff\":15},\"zerolinecolor\":\"white\",\"automargin\":true,\"zerolinewidth\":2},\"yaxis\":{\"gridcolor\":\"white\",\"linecolor\":\"white\",\"ticks\":\"\",\"title\":{\"standoff\":15},\"zerolinecolor\":\"white\",\"automargin\":true,\"zerolinewidth\":2},\"scene\":{\"xaxis\":{\"backgroundcolor\":\"#E5ECF6\",\"gridcolor\":\"white\",\"linecolor\":\"white\",\"showbackground\":true,\"ticks\":\"\",\"zerolinecolor\":\"white\",\"gridwidth\":2},\"yaxis\":{\"backgroundcolor\":\"#E5ECF6\",\"gridcolor\":\"white\",\"linecolor\":\"white\",\"showbackground\":true,\"ticks\":\"\",\"zerolinecolor\":\"white\",\"gridwidth\":2},\"zaxis\":{\"backgroundcolor\":\"#E5ECF6\",\"gridcolor\":\"white\",\"linecolor\":\"white\",\"showbackground\":true,\"ticks\":\"\",\"zerolinecolor\":\"white\",\"gridwidth\":2}},\"shapedefaults\":{\"line\":{\"color\":\"#2a3f5f\"}},\"annotationdefaults\":{\"arrowcolor\":\"#2a3f5f\",\"arrowhead\":0,\"arrowwidth\":1},\"geo\":{\"bgcolor\":\"white\",\"landcolor\":\"#E5ECF6\",\"subunitcolor\":\"white\",\"showland\":true,\"showlakes\":true,\"lakecolor\":\"white\"},\"title\":{\"x\":0.05},\"mapbox\":{\"style\":\"light\"}}},\"title\":{\"text\":\"-log(BLASTp E value) matrix (colorscale=similarity)\"},\"height\":1040,\"width\":1500},                        {\"responsive\": true}                    ).then(function(){\n",
              "                            \n",
              "var gd = document.getElementById('6d58fd1c-5bc2-4e59-be0a-59fa6884c551');\n",
              "var x = new MutationObserver(function (mutations, observer) {{\n",
              "        var display = window.getComputedStyle(gd).display;\n",
              "        if (!display || display === 'none') {{\n",
              "            console.log([gd, 'removed!']);\n",
              "            Plotly.purge(gd);\n",
              "            observer.disconnect();\n",
              "        }}\n",
              "}});\n",
              "\n",
              "// Listen for the removal of the full notebook cells\n",
              "var notebookContainer = gd.closest('#notebook-container');\n",
              "if (notebookContainer) {{\n",
              "    x.observe(notebookContainer, {childList: true});\n",
              "}}\n",
              "\n",
              "// Listen for the clearing of the current output cell\n",
              "var outputEl = gd.closest('.output');\n",
              "if (outputEl) {{\n",
              "    x.observe(outputEl, {childList: true});\n",
              "}}\n",
              "\n",
              "                        })                };                            </script>        </div>\n",
              "</body>\n",
              "</html>"
            ]
          },
          "metadata": {}
        }
      ]
    }
  ]
}